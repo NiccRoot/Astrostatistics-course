{
 "cells": [
  {
   "cell_type": "markdown",
   "id": "64e65b61",
   "metadata": {},
   "source": [
    "**Esercizi lezione 2**\n",
    "* Esercizio Monty Hall problem"
   ]
  },
  {
   "cell_type": "markdown",
   "id": "2bc7c357",
   "metadata": {},
   "source": [
    "## My try"
   ]
  },
  {
   "cell_type": "code",
   "execution_count": 17,
   "id": "4b48b399",
   "metadata": {},
   "outputs": [],
   "source": [
    "import random\n",
    "import numpy"
   ]
  },
  {
   "cell_type": "code",
   "execution_count": 108,
   "id": "532f237e",
   "metadata": {},
   "outputs": [
    {
     "name": "stdout",
     "output_type": "stream",
     "text": [
      "0 2 [1] 1\n",
      "[33.3 66.7 50. ]\n"
     ]
    }
   ],
   "source": [
    "premi=[\"car\",\"goat\",\"goat\"]\n",
    "score1=0; score2=0; score3=0\n",
    "N=1000000\n",
    "for i in range(N):\n",
    "    #il giocatore 1 sceglie la prima porta\n",
    "    extract1=random.randint(0,2)\n",
    "    #il presentatore apre una porta contenente la capra\n",
    "    if extract1==1:\n",
    "        firstmove=2\n",
    "    elif extract1==2:\n",
    "        firstmove=1\n",
    "    else:\n",
    "        firstmove=random.randint(1,2)\n",
    "    #il presentatore chiede se vuole cambiare scelta della porta\n",
    "    #il giocatore 1 mantiene sempre la sua scelta\n",
    "    extract1=extract1\n",
    "    #il giocatore 2 cambia la porta con quella restante\n",
    "    extract2=numpy.array(list(set([0,1,2]).symmetric_difference([extract1,firstmove])))\n",
    "    #un giocatore si inserisce ora e sceglie una delle due porte rimanenti\n",
    "    extract3=random.choice(list(set([0,1,2]).symmetric_difference([firstmove])))\n",
    "    #chi ha vinto?\n",
    "    if extract1==0:\n",
    "        score1=score1+1\n",
    "    if extract2==0:\n",
    "        score2=score2+1\n",
    "    if extract3==0:\n",
    "        score3=score3+1\n",
    "print(numpy.around(numpy.array([score1/N*100,score2/N*100,score3/N*100]),1))"
   ]
  },
  {
   "cell_type": "markdown",
   "id": "7b874b3e",
   "metadata": {},
   "source": [
    "## Prof solution"
   ]
  },
  {
   "cell_type": "markdown",
   "id": "e408bff6",
   "metadata": {},
   "source": [
    "Try to make this code more smart as the professor's one"
   ]
  },
  {
   "cell_type": "code",
   "execution_count": 20,
   "id": "75182aa0",
   "metadata": {},
   "outputs": [],
   "source": [
    "import numpy as np\n",
    "from tqdm.notebook import tqdm\n",
    "import pylab as plt\n",
    "plt.rcParams['figure.figsize'] = [8, 8]"
   ]
  },
  {
   "cell_type": "code",
   "execution_count": 21,
   "id": "90f53d42",
   "metadata": {},
   "outputs": [],
   "source": [
    "def threedoors(which):\n",
    "    labels=np.arange(3) #genero un vettore [0,1,2]\n",
    "    doors=np.zeros(3,dtype=int) #genero un vettore [0,0,0]\n",
    "    doors[np.random.choice(labels)]=1 #a caso [000]-->[010]\n",
    "    choice=np.random.choice(labels) #scelgo a caso 0,1,2\n",
    "    notchosen=np.delete(labels,choice) \n",
    "    while True:\n",
    "        opened=np.random.choice(notchosen)\n",
    "        if doors[opened]==0:\n",
    "            other=int(np.delete(labels,[opened,choice]))# This is the other door left\n",
    "            break\n",
    "    if which=='switch':\n",
    "        return doors[other]\n",
    "    if which=='external':\n",
    "        picked=np.random.choice([choice,other])\n",
    "        return doors[picked]\n",
    "    if which=='keep':\n",
    "        return doors[choice]\n",
    "        "
   ]
  },
  {
   "cell_type": "code",
   "execution_count": 22,
   "id": "3e186e9b",
   "metadata": {},
   "outputs": [
    {
     "data": {
      "application/vnd.jupyter.widget-view+json": {
       "model_id": "dc1f9b58c00f4536ad0e449a333de196",
       "version_major": 2,
       "version_minor": 0
      },
      "text/plain": [
       "  0%|          | 0/3 [00:00<?, ?it/s]"
      ]
     },
     "metadata": {},
     "output_type": "display_data"
    },
    {
     "data": {
      "application/vnd.jupyter.widget-view+json": {
       "model_id": "b58aab77cb454e5ca137ad657bfe303d",
       "version_major": 2,
       "version_minor": 0
      },
      "text/plain": [
       "  0%|          | 0/100000 [00:00<?, ?it/s]"
      ]
     },
     "metadata": {},
     "output_type": "display_data"
    },
    {
     "data": {
      "application/vnd.jupyter.widget-view+json": {
       "model_id": "e2c0e5086ac344e7b99d0855a0aaec83",
       "version_major": 2,
       "version_minor": 0
      },
      "text/plain": [
       "  0%|          | 0/100000 [00:00<?, ?it/s]"
      ]
     },
     "metadata": {},
     "output_type": "display_data"
    },
    {
     "data": {
      "application/vnd.jupyter.widget-view+json": {
       "model_id": "2fdc86aaaf72431eac46b08454e1c58e",
       "version_major": 2,
       "version_minor": 0
      },
      "text/plain": [
       "  0%|          | 0/100000 [00:00<?, ?it/s]"
      ]
     },
     "metadata": {},
     "output_type": "display_data"
    }
   ],
   "source": [
    "N=int(1e5)\n",
    "probs={}\n",
    "for which in tqdm(['switch','keep','external']):\n",
    "    events=[threedoors(which) for i in tqdm(range(N))]\n",
    "    probs[which]=np.sum(events)/N"
   ]
  },
  {
   "cell_type": "code",
   "execution_count": 26,
   "id": "28dbfb33",
   "metadata": {},
   "outputs": [
    {
     "data": {
      "image/png": "[encoded data removed]",
      "text/plain": [
       "<Figure size 576x576 with 1 Axes>"
      ]
     },
     "metadata": {
      "needs_background": "light"
     },
     "output_type": "display_data"
    }
   ],
   "source": [
    "plt.bar([0,1,2], [probs[k] for k in probs.keys()], color='green')\n",
    "plt.xticks([0,1,2], probs.keys())\n",
    "for y in [1/3,1/2,2/3]:\n",
    "    plt.axhline(y, ls='dotted',c='black')"
   ]
  },
  {
   "cell_type": "code",
   "execution_count": 23,
   "id": "edc6b3d4",
   "metadata": {},
   "outputs": [
    {
     "name": "stdout",
     "output_type": "stream",
     "text": [
      "{'switch': 0.66605, 'keep': 0.33301, 'external': 0.4981}\n"
     ]
    }
   ],
   "source": [
    "print(probs)"
   ]
  },
  {
   "cell_type": "code",
   "execution_count": null,
   "id": "eb1abc39",
   "metadata": {},
   "outputs": [],
   "source": []
  }
 ],
 "metadata": {
  "kernelspec": {
   "display_name": "Python 3 (ipykernel)",
   "language": "python",
   "name": "python3"
  },
  "language_info": {
   "codemirror_mode": {
    "name": "ipython",
    "version": 3
   },
   "file_extension": ".py",
   "mimetype": "text/x-python",
   "name": "python",
   "nbconvert_exporter": "python",
   "pygments_lexer": "ipython3",
   "version": "3.10.4"
  }
 },
 "nbformat": 4,
 "nbformat_minor": 5
}
